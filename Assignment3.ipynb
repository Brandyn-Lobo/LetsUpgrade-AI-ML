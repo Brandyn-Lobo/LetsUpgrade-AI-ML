{
 "cells": [
  {
   "cell_type": "raw",
   "metadata": {},
   "source": [
    "Question 1: Write a program to subtract two complex numbers in Python"
   ]
  },
  {
   "cell_type": "code",
   "execution_count": 1,
   "metadata": {},
   "outputs": [
    {
     "name": "stdout",
     "output_type": "stream",
     "text": [
      "(5+7j)\n"
     ]
    }
   ],
   "source": [
    "a = 2 + 3j\n",
    "b = 3 + 4j\n",
    "print(a + b)"
   ]
  },
  {
   "cell_type": "raw",
   "metadata": {},
   "source": [
    "Question 2: Write a program to find the fourth root of a number."
   ]
  },
  {
   "cell_type": "code",
   "execution_count": 4,
   "metadata": {},
   "outputs": [
    {
     "name": "stdout",
     "output_type": "stream",
     "text": [
      "Fourth root of a number= 2.0\n"
     ]
    }
   ],
   "source": [
    "a = 16\n",
    "print('Fourth root of a number=',a**0.25)"
   ]
  },
  {
   "cell_type": "raw",
   "metadata": {},
   "source": [
    "Question 3: Write a program to swap two numbers in Python with the help of a temporary variable."
   ]
  },
  {
   "cell_type": "code",
   "execution_count": 5,
   "metadata": {},
   "outputs": [
    {
     "name": "stdout",
     "output_type": "stream",
     "text": [
      "a = 10 b = 20\n",
      "Swapped numbers: a = 20 b = 10\n"
     ]
    }
   ],
   "source": [
    "a = 10\n",
    "b = 20\n",
    "print('a =',a,'b =',b)\n",
    "temp = a\n",
    "a = b\n",
    "b = temp\n",
    "print('Swapped numbers: a =',a,'b =',b )"
   ]
  },
  {
   "cell_type": "raw",
   "metadata": {},
   "source": [
    "Question 4: Write a program to swap two numbers in Python with the help of a temporary variable."
   ]
  },
  {
   "cell_type": "code",
   "execution_count": 6,
   "metadata": {},
   "outputs": [
    {
     "name": "stdout",
     "output_type": "stream",
     "text": [
      "a =  15 b =  25\n",
      "Swapped numbers: a = 25 b = 15\n"
     ]
    }
   ],
   "source": [
    "a = 15\n",
    "b = 25\n",
    "print('a = ',a,'b = ',b)\n",
    "a = a + b\n",
    "b = a - b\n",
    "a = a - b\n",
    "print('Swapped numbers: a =',a,'b =',b )"
   ]
  },
  {
   "cell_type": "raw",
   "metadata": {},
   "source": [
    "Question 5: Write a program to convert Fahrenheit to kelvin and celsius both."
   ]
  },
  {
   "cell_type": "code",
   "execution_count": 7,
   "metadata": {},
   "outputs": [
    {
     "name": "stdout",
     "output_type": "stream",
     "text": [
      "Fahrenheit Temperature: 99\n",
      "Temperature in Celcius: 37.22222222222222 Temperature in Kelvin: 310.3722222222222\n"
     ]
    }
   ],
   "source": [
    "F = 99\n",
    "print('Fahrenheit Temperature:',F)\n",
    "C = ((F - 32)*5)/9\n",
    "K = 273.15 + ((F - 32.0)*(5.0/9.0))\n",
    "print('Temperature in Celcius:',C,'Temperature in Kelvin:',K)"
   ]
  },
  {
   "cell_type": "raw",
   "metadata": {},
   "source": [
    "Question 6: Write a program to demonstrate all the available data types in Python. Hint: Use type() function."
   ]
  },
  {
   "cell_type": "code",
   "execution_count": 10,
   "metadata": {},
   "outputs": [
    {
     "name": "stdout",
     "output_type": "stream",
     "text": [
      "a = <class 'int'>\n",
      "b = <class 'complex'>\n",
      "c = <class 'float'>\n",
      "d = <class 'bool'>\n",
      "e = <class 'str'>\n"
     ]
    }
   ],
   "source": [
    "a = 10\n",
    "b = 2 + 3j\n",
    "c = 4.34\n",
    "d = True\n",
    "e = 'Thank You'\n",
    "print('a =',type(a))\n",
    "print('b =',type(b))\n",
    "print('c =',type(c))\n",
    "print('d =',type(d))\n",
    "print('e =',type(e))"
   ]
  }
 ],
 "metadata": {
  "kernelspec": {
   "display_name": "Python 3",
   "language": "python",
   "name": "python3"
  },
  "language_info": {
   "codemirror_mode": {
    "name": "ipython",
    "version": 3
   },
   "file_extension": ".py",
   "mimetype": "text/x-python",
   "name": "python",
   "nbconvert_exporter": "python",
   "pygments_lexer": "ipython3",
   "version": "3.8.3"
  }
 },
 "nbformat": 4,
 "nbformat_minor": 4
}
