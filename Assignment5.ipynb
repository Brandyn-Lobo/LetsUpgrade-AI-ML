{
 "cells": [
  {
   "cell_type": "raw",
   "metadata": {},
   "source": [
    "Question 1: Write a Python program to find the first 20 non-even prime natural numbers."
   ]
  },
  {
   "cell_type": "code",
   "execution_count": 56,
   "metadata": {},
   "outputs": [
    {
     "name": "stdout",
     "output_type": "stream",
     "text": [
      "First 20 non-zero prime natural numbers:\n",
      "2  3  5  7  11  13  17  19  23  29  31  37  41  43  47  53  59  61  67  71  "
     ]
    }
   ],
   "source": [
    "print('First 20 non-zero prime natural numbers:')\n",
    "for Number in range (1, 73):\n",
    "    count = 0\n",
    "    for i in range(2, (Number//2 + 1)):\n",
    "        if(Number % i == 0):\n",
    "            count = count + 1\n",
    "            break\n",
    "\n",
    "    if (count == 0 and Number != 1):\n",
    "        print(Number,end = '  ')\n"
   ]
  },
  {
   "cell_type": "raw",
   "metadata": {},
   "source": [
    "Question 2: Write a Python program to implement 15 functions of string."
   ]
  },
  {
   "cell_type": "code",
   "execution_count": 44,
   "metadata": {},
   "outputs": [
    {
     "name": "stdout",
     "output_type": "stream",
     "text": [
      "String: hello world\n",
      "Captialised string: Hello world\n",
      "Uppercase string: HELLO WORLD\n",
      "Title string: Hello World\n",
      "Centered string:     hello world     \n",
      "Encoded string: b'hello world'\n",
      "Replaced string: hello%world\n",
      "Occurences of hello: 1\n",
      "First position of the word \"world\" in the string: 6\n",
      "Is the string in lower case: True\n",
      "\n",
      "\n",
      "HelloWorld\n",
      "Swapped case: hELLOwORLD\n",
      "Does the string have aplhabets: True\n",
      "Lowercase string: helloworld\n",
      "Does the string start with \"Hell\": True\n",
      "\n",
      "\n",
      "Hello World.\n",
      "Casefolded string: hello world.\n",
      "Does the string ends with \".\": True\n"
     ]
    }
   ],
   "source": [
    "string1 = 'hello world'\n",
    "print('String:',string1)\n",
    "print('Captialised string:',string1.capitalize()) # 1\n",
    "print('Uppercase string:',string1.upper()) # 2\n",
    "print('Title string:',string1.title()) # 3\n",
    "print('Centered string:',string1.center(20)) # 4\n",
    "print('Encoded string:',string1.encode()) # 5\n",
    "print('Replaced string:',string1.replace(\" \",\"%\")) # 6\n",
    "print('Occurences of hello:',string1.count(\"hello\")) # 7\n",
    "print('First position of the word \"world\" in the string:',string1.find(\"world\")) # 8\n",
    "print('Is the string in lower case:',string1.islower()) # 9\n",
    "\n",
    "string1 = 'HelloWorld'\n",
    "print('\\n')\n",
    "print(string1)\n",
    "print('Swapped case:',string1.swapcase()) # 10\n",
    "print('Does the string have aplhabets:',string1.isalpha()) # 11\n",
    "print('Lowercase string:',string1.lower()) # 12\n",
    "print('Does the string start with \"Hell\":',string1.startswith(\"Hell\")) # 13\n",
    "\n",
    "string1 = 'Hello World.'\n",
    "print('\\n')\n",
    "print(string1)\n",
    "print('Casefolded string:',string1.casefold()) # 14\n",
    "print('Does the string ends with \".\":',string1.endswith(\".\")) # 15\n"
   ]
  },
  {
   "cell_type": "raw",
   "metadata": {},
   "source": [
    "Question 3: Write a Python program to check if the given string is a Palindrome or Anagram or None of them. Display\n",
    "the message accordingly to the user."
   ]
  },
  {
   "cell_type": "code",
   "execution_count": 9,
   "metadata": {},
   "outputs": [
    {
     "name": "stdout",
     "output_type": "stream",
     "text": [
      "The string TENET is a palindrome.\n",
      "The string NETTE is anagram of TENET .\n"
     ]
    }
   ],
   "source": [
    "s = 'TENET'\n",
    "s1 = s[::-1]\n",
    "if (s1 == s):# \n",
    "    print('The string',s,'is a palindrome.')\n",
    "else :\n",
    "    print('The string',s,'is not a palindrome.')\n",
    "s2 = 'NETTE'\n",
    "if (sorted(s) == sorted(s2)):# sorted() sorts the strings in alphabetical order and the sorted strinngs are compared\n",
    "     print('The string',s2,'is anagram of',s,'.')"
   ]
  },
  {
   "cell_type": "raw",
   "metadata": {},
   "source": [
    "Question 4: Write a Python's user-defined function that removes all the additional characters from the string and\n",
    "convert it finally to lower case using built-in lower(). eg: If the string is \"Dr. Darshan Ingle @AIML Trainer\",\n",
    "then the output be \"drdarshaningleaimltrainer\"."
   ]
  },
  {
   "cell_type": "code",
   "execution_count": 3,
   "metadata": {},
   "outputs": [
    {
     "name": "stdout",
     "output_type": "stream",
     "text": [
      "Original string: Dr. Darshan Ingle @AIML Trainer\n",
      "Resultant String: drdarshaningleaimltrainer\n"
     ]
    }
   ],
   "source": [
    "bad_characters = [' ','.','@',';',':','!']\n",
    "string1 = 'Dr. Darshan Ingle @AIML Trainer'\n",
    "print('Original string:',string1)\n",
    "for i in bad_characters:\n",
    "    string1 = string1.replace(i,'')\n",
    "string1 = string1.lower()\n",
    "print('Resultant String:',string1)"
   ]
  }
 ],
 "metadata": {
  "kernelspec": {
   "display_name": "Python 3",
   "language": "python",
   "name": "python3"
  },
  "language_info": {
   "codemirror_mode": {
    "name": "ipython",
    "version": 3
   },
   "file_extension": ".py",
   "mimetype": "text/x-python",
   "name": "python",
   "nbconvert_exporter": "python",
   "pygments_lexer": "ipython3",
   "version": "3.8.3"
  }
 },
 "nbformat": 4,
 "nbformat_minor": 4
}
